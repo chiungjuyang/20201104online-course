{
 "cells": [
  {
   "cell_type": "markdown",
   "metadata": {},
   "source": [
    "# 博客來網路書店排行榜資料\n",
    "### 找出暢銷書排行榜之書名，並計算某些特定關鍵字出現的次數"
   ]
  },
  {
   "cell_type": "code",
   "execution_count": 12,
   "metadata": {},
   "outputs": [],
   "source": [
    "import requests\n",
    "from bs4 import BeautifulSoup\n",
    "user_agent = {\"User-agent\":\"Mozilla/5.0 (Windows NT 10.0; Win64; x64) AppleWebKit/537.36 (KHTML, like Gecko) Chrome/86.0.4240.111 Safari/537.36\"}\n",
    "#url = \"https://www.books.com.tw/web/sys_newtopb/books/19/?loc=P_0002_020\"\n",
    "url = \"https://www.books.com.tw/web/sys_saletopb/books/19/?loc=P_0002_020\"\n",
    "html = requests.get(url, headers=user_agent).text"
   ]
  },
  {
   "cell_type": "code",
   "execution_count": 54,
   "metadata": {},
   "outputs": [],
   "source": [
    "#找出所需要的資料，並儲存到串列中\n",
    "soup = BeautifulSoup(html, \"html.parser\")\n",
    "sel = \"li.item\"\n",
    "titles = list()\n",
    "for book in rankings:\n",
    "    print(book.find(\"strong\").text)\n",
    "    print(book.a[\"href\"])\n",
    "    print(book.a.img[\"alt\"])\n",
    "    titles.append(book.a.img['alt'])\n",
    "    print(book.ul.a.text)"
   ]
  },
  {
   "cell_type": "code",
   "execution_count": 53,
   "metadata": {},
   "outputs": [
    {
     "name": "stdout",
     "output_type": "stream",
     "text": [
      "5\n"
     ]
    }
   ],
   "source": [
    "print(\"\".join(titles).count(\"大數據\"))"
   ]
  }
 ],
 "metadata": {
  "kernelspec": {
   "display_name": "Python 3",
   "language": "python",
   "name": "python3"
  },
  "language_info": {
   "codemirror_mode": {
    "name": "ipython",
    "version": 3
   },
   "file_extension": ".py",
   "mimetype": "text/x-python",
   "name": "python",
   "nbconvert_exporter": "python",
   "pygments_lexer": "ipython3",
   "version": "3.7.6"
  }
 },
 "nbformat": 4,
 "nbformat_minor": 4
}
