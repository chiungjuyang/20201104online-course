{
 "cells": [
  {
   "cell_type": "markdown",
   "metadata": {
    "tags": []
   },
   "source": [
    "# 何敏煌老師線上爬蟲課程\n",
    "## 109年11月4日\n",
    "#### 參考網址： http://min-huang.com\n",
    "#### Youtube Channel: https://youtube.com/richardho"
   ]
  },
  {
   "cell_type": "markdown",
   "metadata": {},
   "source": [
    "## 把資料儲存成為 JSON 檔案"
   ]
  },
  {
   "cell_type": "code",
   "execution_count": 3,
   "metadata": {},
   "outputs": [
    {
     "name": "stdout",
     "output_type": "stream",
     "text": [
      "請輸入你的姓名，直接按Enter即結束程式）：王小花\n",
      "請輸入你的身高（公分）：180\n",
      "請輸入你的體重（公斤）：78\n",
      "請輸入你的姓名，直接按Enter即結束程式）：林小明\n",
      "請輸入你的身高（公分）：165\n",
      "請輸入你的體重（公斤）：70\n",
      "請輸入你的姓名，直接按Enter即結束程式）：\n",
      "Done!\n"
     ]
    }
   ],
   "source": [
    "# 讀取身高及體重資料，鈀把所有的資料以 JSON 的格式存檔\n",
    "import json\n",
    "\n",
    "body_info = list()\n",
    "name = input(\"請輸入你的姓名，直接按Enter即結束程式）：\")\n",
    "while name != \"\":\n",
    "    height = input(\"請輸入你的身高（公分）：\")\n",
    "    weight = input(\"請輸入你的體重（公斤）：\")\n",
    "    item = dict();\n",
    "    item['name'], item['height'], item['weight'] = name, height, weight\n",
    "    body_info.append(item)\n",
    "    name = input(\"請輸入你的姓名，直接按Enter即結束程式）：\")\n",
    "with open(\"bodyinfo.json\", \"w\") as fp:\n",
    "    json.dump(body_info, fp)\n",
    "print(\"Done!\")"
   ]
  },
  {
   "cell_type": "markdown",
   "metadata": {},
   "source": [
    "## 讀取 JSON 檔案資料"
   ]
  },
  {
   "cell_type": "code",
   "execution_count": 5,
   "metadata": {},
   "outputs": [
    {
     "name": "stdout",
     "output_type": "stream",
     "text": [
      "王小花的BMI是24.07\n",
      "林小明的BMI是25.71\n"
     ]
    }
   ],
   "source": [
    "import json\n",
    "\n",
    "with open(\"bodyinfo.json\", \"r\") as fp:\n",
    "    body_info = json.load(fp)\n",
    "for info in body_info:\n",
    "    BMI = float(info[\"weight\"]) / (float(info[\"height\"])/100) ** 2\n",
    "    print(\"{}的BMI是{:.2f}\".format(info[\"name\"], BMI))"
   ]
  },
  {
   "cell_type": "markdown",
   "metadata": {},
   "source": [
    "## 高科大焦點新聞--新聞標題爬取實例"
   ]
  },
  {
   "cell_type": "code",
   "execution_count": 7,
   "metadata": {},
   "outputs": [],
   "source": [
    "# 步驟一，先找出網址，並取得其原始碼\n",
    "import requests\n",
    "url = \"https://www.nkust.edu.tw/p/403-1000-12-1.php?Lang=zh-tw\"\n",
    "html = requests.get(url).text"
   ]
  },
  {
   "cell_type": "code",
   "execution_count": 11,
   "metadata": {},
   "outputs": [],
   "source": [
    "# 步驟二，把下載之網頁原始碼放到 BeautifulSoup中進行分析\n",
    "from bs4 import BeautifulSoup\n",
    "soup = BeautifulSoup(html, \"html.parser\")\n",
    "links = soup.find_all(\"a\")"
   ]
  },
  {
   "cell_type": "code",
   "execution_count": 13,
   "metadata": {},
   "outputs": [
    {
     "name": "stdout",
     "output_type": "stream",
     "text": [
      "高科大菁英教師陣容龐大  熱門教師學生搶修\n",
      "http://www.nkust.edu.tw/p/406-1000-38040,r12.php\n"
     ]
    }
   ],
   "source": [
    "# 步驟三，找出網頁中的選擇器字串，作為擷取感興趣內容的依據\n",
    "sel = \"#pageptlist > div:nth-child(1) > div > div > div > div > a\"\n",
    "titles = soup.select(sel)\n",
    "for title in titles:\n",
    "    print(title.text.strip())\n",
    "    print(title['href'])"
   ]
  },
  {
   "cell_type": "code",
   "execution_count": 15,
   "metadata": {},
   "outputs": [
    {
     "name": "stdout",
     "output_type": "stream",
     "text": [
      "['https://www.nkust.edu.tw/p/403-1000-12-1.php?Lang=zh-tw', 'https://www.nkust.edu.tw/p/403-1000-12-2.php?Lang=zh-tw', 'https://www.nkust.edu.tw/p/403-1000-12-3.php?Lang=zh-tw', 'https://www.nkust.edu.tw/p/403-1000-12-4.php?Lang=zh-tw', 'https://www.nkust.edu.tw/p/403-1000-12-5.php?Lang=zh-tw', 'https://www.nkust.edu.tw/p/403-1000-12-6.php?Lang=zh-tw', 'https://www.nkust.edu.tw/p/403-1000-12-7.php?Lang=zh-tw', 'https://www.nkust.edu.tw/p/403-1000-12-8.php?Lang=zh-tw', 'https://www.nkust.edu.tw/p/403-1000-12-9.php?Lang=zh-tw', 'https://www.nkust.edu.tw/p/403-1000-12-10.php?Lang=zh-tw']\n"
     ]
    }
   ],
   "source": [
    "# 步驟四，找出所有焦點新聞網頁的連結\n",
    "url = \"https://www.nkust.edu.tw/p/403-1000-12-{}.php?Lang=zh-tw\"\n",
    "urls = list()\n",
    "for p in range(1, 11):\n",
    "    urls.append(url.format(p))"
   ]
  },
  {
   "cell_type": "code",
   "execution_count": 18,
   "metadata": {},
   "outputs": [
    {
     "name": "stdout",
     "output_type": "stream",
     "text": [
      "Done\n"
     ]
    }
   ],
   "source": [
    "#步驟五，利用找出的網址，把所有的焦點都列出來\n",
    "import time\n",
    "for url in urls:\n",
    "    pass\n",
    "    html = requests.get(url).text\n",
    "    soup = BeautifulSoup(html, \"html.parser\")\n",
    "    sel =  \"#pageptlist > div > div > div > div > div > a\"\n",
    "    titles = soup.select(sel)\n",
    "    for title in titles:\n",
    "        print(title.text.strip())\n",
    "    time.sleep(3)\n",
    "print(\"Done\")"
   ]
  },
  {
   "cell_type": "code",
   "execution_count": 28,
   "metadata": {},
   "outputs": [],
   "source": [
    "#步驟六，讀取新聞網頁的內容\n",
    "url = \"https://www.nkust.edu.tw/p/406-1000-36026,r12.php\"\n",
    "html = requests.get(url).text"
   ]
  },
  {
   "cell_type": "code",
   "execution_count": 33,
   "metadata": {},
   "outputs": [
    {
     "name": "stdout",
     "output_type": "stream",
     "text": [
      "<p style=\"text-align: justify;\">日前海委會輔與高科大簽署海洋教育合作意向書，揭示高科大加入海洋教育的重要意義。而教育部關於海洋教育的發展，高科大亦參與其中，跨科系成立團隊，將漁業產業及生態教育融入桌遊，打造全新桌遊課程「人人都是漁大師！」，將桌遊結合在課程及教案設計中，經過數次中小學教師試玩並調整，回響熱烈。</p>\n",
      "<p style=\"text-align: justify;\">高科大創新創業教育中心教師陳建志表示，不論在教學端或學習端，對於創新的需求已日漸抬頭，尤其肩負推廣任務的教學，更是對創意的挑戰。高科大參與教育部「海洋職涯試探教學發展計畫」，配合十二年國教實施，將議題融入教學主題中，並整合各學科領域來規劃教案，今年總算完成「人人都是漁大師！」的教學工具，經過多次試玩修正，中小學教師的熱烈回饋讓開發團隊受到非常大的鼓舞。</p>\n",
      "<p style=\"text-align: justify;\">本案結合了高科大海洋休閒管理系教授林杏麗、漁業生產與管理系教授蔡文沛、創新創業教育中心、工業設計系、國昌國中等，整合各面向專業思維投入教具設計，對於建構完整的教學內容到建立正確的海洋價值觀，發揮非常關鍵的作用。事實上，試玩的反饋相當正面，非常多老師詢問這套桌遊能否販售，希望能夠實際在學期間運用於課堂教學。</p>\n",
      "<p style=\"text-align: justify;\">除了教案設計、教具開發已近完成階段，高科大也辦理多場講師培訓課程，不僅就本套教學課程進行訓練，更邀集多位水產食品科學、水產養殖等領域專業教師加入課程，分享實際的養殖、科技、生技產業等實務運用及商品化趨勢，藉由高科大在海洋領域的專業能量，提升教師對於海洋產業的認識，也有助於教師進行海洋教育課程的內容豐富性。</p>\n"
     ]
    }
   ],
   "source": [
    "soup = BeautifulSoup(html, \"html.parser\")\n",
    "sel = \"#Dyn_2_3 > div.module.module-detail.md_style1 > div > section > div.mcont > div.mpgdetail > p\"\n",
    "content = soup.select(sel)\n",
    "for p in content:\n",
    "    print(p)"
   ]
  }
 ],
 "metadata": {
  "kernelspec": {
   "display_name": "Python 3",
   "language": "python",
   "name": "python3"
  },
  "language_info": {
   "codemirror_mode": {
    "name": "ipython",
    "version": 3
   },
   "file_extension": ".py",
   "mimetype": "text/x-python",
   "name": "python",
   "nbconvert_exporter": "python",
   "pygments_lexer": "ipython3",
   "version": "3.7.6"
  }
 },
 "nbformat": 4,
 "nbformat_minor": 4
}
