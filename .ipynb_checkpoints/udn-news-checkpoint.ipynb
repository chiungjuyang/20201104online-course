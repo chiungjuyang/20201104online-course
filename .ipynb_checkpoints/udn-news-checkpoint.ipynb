{
 "cells": [
  {
   "cell_type": "markdown",
   "metadata": {},
   "source": [
    "# 聯合新聞網 新聞資料擷取\n",
    "### 使用傳統方式"
   ]
  },
  {
   "cell_type": "code",
   "execution_count": 1,
   "metadata": {},
   "outputs": [],
   "source": [
    "import requests\n",
    "from bs4 import BeautifulSoup\n",
    "url = \"https://udn.com/news/breaknews/1\"\n",
    "html = requests.get(url).text"
   ]
  },
  {
   "cell_type": "code",
   "execution_count": 6,
   "metadata": {},
   "outputs": [],
   "source": [
    "#取出原始資料\n",
    "soup = BeautifulSoup(html, \"html.parser\")\n",
    "sel = \"#breaknews > div > div > div.story-list__text > h2 > a\"\n",
    "headlines = soup.select(sel)\n",
    "for headline in headlines:\n",
    "    print(headline['title'])\n",
    "    print(headline['href'])"
   ]
  },
  {
   "cell_type": "code",
   "execution_count": 11,
   "metadata": {},
   "outputs": [],
   "source": [
    "#加上完整網址 \n",
    "from urllib.parse import urlparse, urljoin\n",
    "soup = BeautifulSoup(html, \"html.parser\")\n",
    "sel = \"#breaknews > div > div > div.story-list__text > h2 > a\"\n",
    "headlines = soup.select(sel)\n",
    "for headline in headlines:\n",
    "    print(headline['title'])\n",
    "    print(urljoin(urljoin(url, '/'), headline['href']))"
   ]
  },
  {
   "cell_type": "markdown",
   "metadata": {},
   "source": [
    "## 使用JSON直接取得資料內容"
   ]
  },
  {
   "cell_type": "code",
   "execution_count": 13,
   "metadata": {},
   "outputs": [],
   "source": [
    "import json\n",
    "import requests\n",
    "url = \"https://udn.com/api/more?page=2&id=&channelId=1&cate_id=0&type=breaknews&totalRecNo=11010\"\n",
    "data = requests.get(url).text"
   ]
  },
  {
   "cell_type": "code",
   "execution_count": 19,
   "metadata": {},
   "outputs": [],
   "source": [
    "headlines = json.loads(data)\n",
    "titles = headlines['lists']\n",
    "for title in titles:\n",
    "    print(title['url'])\n",
    "    print(title['titleLink'])\n",
    "    print(title['title'])\n",
    "    print(title['paragraph'])\n",
    "    print(title['time']['date'])\n",
    "    print(\"---\")"
   ]
  },
  {
   "cell_type": "markdown",
   "metadata": {},
   "source": [
    "## 直接從網址儲存圖形檔"
   ]
  },
  {
   "cell_type": "code",
   "execution_count": 18,
   "metadata": {},
   "outputs": [
    {
     "data": {
      "text/plain": [
       "('mypic.jpg', <http.client.HTTPMessage at 0x26dff8fd048>)"
      ]
     },
     "execution_count": 18,
     "metadata": {},
     "output_type": "execute_result"
    }
   ],
   "source": [
    "import urllib.request\n",
    "image_url = \"https://pgw.udn.com.tw/gw/photo.php?u=https://uc.udn.com.tw/photo/2020/11/03/realtime/8996048.jpg&s=Y&x=0&y=8&sw=1279&sh=852&exp=3600\"\n",
    "urllib.request.urlretrieve(image_url, \"mypic.jpg\")"
   ]
  }
 ],
 "metadata": {
  "kernelspec": {
   "display_name": "Python 3",
   "language": "python",
   "name": "python3"
  },
  "language_info": {
   "codemirror_mode": {
    "name": "ipython",
    "version": 3
   },
   "file_extension": ".py",
   "mimetype": "text/x-python",
   "name": "python",
   "nbconvert_exporter": "python",
   "pygments_lexer": "ipython3",
   "version": "3.7.6"
  }
 },
 "nbformat": 4,
 "nbformat_minor": 4
}
