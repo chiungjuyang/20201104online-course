{
 "cells": [
  {
   "cell_type": "markdown",
   "metadata": {},
   "source": [
    "# PCHOME商品資料查詢"
   ]
  },
  {
   "cell_type": "code",
   "execution_count": 1,
   "metadata": {},
   "outputs": [],
   "source": [
    "import requests\n",
    "import json\n",
    "\n",
    "url = \"https://ecshweb.pchome.com.tw/search/v3.3/all/results?q=iphone%2012&page=1&sort=sale/dc\"\n",
    "data = requests.get(url).text"
   ]
  },
  {
   "cell_type": "code",
   "execution_count": 8,
   "metadata": {},
   "outputs": [
    {
     "name": "stdout",
     "output_type": "stream",
     "text": [
      "Apple iPhone 12 (128G)-藍色(MGJE3TA/A)\n",
      "28500\n",
      "28500\n",
      "Apple iPhone 12 (128G)-綠色(MGJF3TA/A)\n",
      "28500\n",
      "28500\n",
      "Apple iPhone 12 (64G)-黑色(MGJ53TA/A)\n",
      "26900\n",
      "26900\n",
      "Apple iPhone SE (128G)-白色(MXD12TA/A)\n",
      "14888\n",
      "14888\n",
      "Apple iPhone 12 (128G)-白色(MGJC3TA/A)\n",
      "28500\n",
      "28500\n",
      "Apple iPhone 12 (64G)-藍色(MGJ83TA/A)\n",
      "26900\n",
      "26900\n",
      "Apple iPhone 12 (128G)-黑色(MGJA3TA/A)\n",
      "28500\n",
      "28500\n",
      "Apple iPhone 12 (64G)-白色(MGJ63TA/A)\n",
      "26900\n",
      "26900\n",
      "Apple iPhone 12 (64G)-白色(MGJ63TA/A)\n",
      "26900\n",
      "26900\n"
     ]
    }
   ],
   "source": [
    "jsondata = json.loads(data)\n",
    "products = jsondata[\"prods\"]\n",
    "for prod in products:\n",
    "    if float(prod['price'])>10000:\n",
    "        print(prod[\"name\"])\n",
    "        print(prod['price'])\n",
    "        print(prod['originPrice'])"
   ]
  }
 ],
 "metadata": {
  "kernelspec": {
   "display_name": "Python 3",
   "language": "python",
   "name": "python3"
  },
  "language_info": {
   "codemirror_mode": {
    "name": "ipython",
    "version": 3
   },
   "file_extension": ".py",
   "mimetype": "text/x-python",
   "name": "python",
   "nbconvert_exporter": "python",
   "pygments_lexer": "ipython3",
   "version": "3.7.6"
  }
 },
 "nbformat": 4,
 "nbformat_minor": 4
}
